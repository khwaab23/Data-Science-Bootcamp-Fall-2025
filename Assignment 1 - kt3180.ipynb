{
 "cells": [
  {
   "cell_type": "markdown",
   "id": "35046048-6994-48b3-b65b-7ac85e968240",
   "metadata": {},
   "source": [
    "# Take home exercises\n",
    "\n",
    "Q1. Write a program that takes a word as an input and print the number of vowels in the word.\n",
    "\n",
    "Q2. Iterate through the following list of animals and print each one in all caps.\n",
    "animals=['tiger', 'elephant', 'monkey', 'zebra', 'panther']\n",
    "\n",
    "Q3. Write a program that iterates from 1 to 20, printing each number and whether it's odd or even.\n",
    "\n",
    "Q4. Write a program to check if a string is a palindrome or not.\n",
    "\n",
    "Q5. Write a function sum_of_integers(a, b) that takes two integers as input from the user and returns their sum. (optional)"
   ]
  },
  {
   "cell_type": "code",
   "execution_count": 5,
   "id": "5c35f8e1-0eeb-41ff-8c4f-ed5d46aa7869",
   "metadata": {},
   "outputs": [],
   "source": [
    "#Answer 1:\n",
    "\n",
    "def count_vowels(word):\n",
    "    count=0\n",
    "    vowels='aeiouAEIOU'\n",
    "    for i in word:\n",
    "        if i in vowels:\n",
    "            count+=1\n",
    "    return count"
   ]
  },
  {
   "cell_type": "code",
   "execution_count": 15,
   "id": "263aea35-3afe-466f-b8a1-5cb850564c79",
   "metadata": {},
   "outputs": [
    {
     "name": "stdout",
     "output_type": "stream",
     "text": [
      "TIGER\n",
      "ELEPHANT\n",
      "MONKEY\n",
      "ZEBRA\n",
      "PANTHER\n"
     ]
    }
   ],
   "source": [
    "#Answer 2:\n",
    "animals=['tiger', 'elephant', 'monkey', 'zebra', 'panther']\n",
    "for i in animals:\n",
    "    print(i.upper())"
   ]
  },
  {
   "cell_type": "code",
   "execution_count": 27,
   "id": "476aebf4-7d93-4371-b6c2-73e8fa79c639",
   "metadata": {},
   "outputs": [
    {
     "name": "stdout",
     "output_type": "stream",
     "text": [
      "0 is even\n",
      "1 is odd\n",
      "2 is even\n",
      "3 is odd\n",
      "4 is even\n",
      "5 is odd\n",
      "6 is even\n",
      "7 is odd\n",
      "8 is even\n",
      "9 is odd\n",
      "10 is even\n",
      "11 is odd\n",
      "12 is even\n",
      "13 is odd\n",
      "14 is even\n",
      "15 is odd\n",
      "16 is even\n",
      "17 is odd\n",
      "18 is even\n",
      "19 is odd\n",
      "20 is even\n"
     ]
    }
   ],
   "source": [
    "#Answer 3:\n",
    "numbers=list(range(0,21))\n",
    "for i in numbers:\n",
    "    odd_or_even=\"odd\" if i%2!=0 else \"even\"\n",
    "    print(f\"{i} is {odd_or_even}\")"
   ]
  },
  {
   "cell_type": "code",
   "execution_count": 31,
   "id": "559b41b6-4e54-479d-8673-dbd4f07ad084",
   "metadata": {},
   "outputs": [
    {
     "data": {
      "text/plain": [
       "True"
      ]
     },
     "execution_count": 31,
     "metadata": {},
     "output_type": "execute_result"
    }
   ],
   "source": [
    "#Answer 4:\n",
    "#Assuming there will only be alphanumeric characters \n",
    "def is_palindrome(string):\n",
    "    return string.lower()==string[::-1].lower()"
   ]
  },
  {
   "cell_type": "code",
   "execution_count": null,
   "id": "21a2c11c-8f87-46e8-b5aa-445be82fbeca",
   "metadata": {},
   "outputs": [],
   "source": [
    "#Answer 5:\n",
    "def additon(a,b):\n",
    "    return a+b\n",
    "a=int(input(\"enter the first number:\"))\n",
    "b=int(input(\"enter the second number:\"))\n"
   ]
  }
 ],
 "metadata": {
  "kernelspec": {
   "display_name": "Python [conda env:base] *",
   "language": "python",
   "name": "conda-base-py"
  },
  "language_info": {
   "codemirror_mode": {
    "name": "ipython",
    "version": 3
   },
   "file_extension": ".py",
   "mimetype": "text/x-python",
   "name": "python",
   "nbconvert_exporter": "python",
   "pygments_lexer": "ipython3",
   "version": "3.12.7"
  }
 },
 "nbformat": 4,
 "nbformat_minor": 5
}
