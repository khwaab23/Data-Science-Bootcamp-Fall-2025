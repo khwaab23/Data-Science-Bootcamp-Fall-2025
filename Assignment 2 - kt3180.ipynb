{
 "cells": [
  {
   "cell_type": "markdown",
   "id": "f4f4d5d5-fa52-45a0-ac5f-aeef61256da0",
   "metadata": {},
   "source": [
    "### HW Questions (Numpy):\n",
    "\n",
    "1. Define two custom numpy arrays, say A and B. Generate two new numpy arrays by stacking A and B vertically and horizontally.\n",
    "\n",
    "2. Find common elements between A and B. [Hint: Intersection of two sets]\n",
    "\n",
    "3. Extract all numbers from A which are within a specific range. eg between 5 and 10. [Hint: np.where() might be useful or boolean masks]\n",
    "\n",
    "4. Filter the rows of iris_2d that has petallength (3rd column) > 1.5 and sepallength (1st column) < 5.0\n",
    "    url = 'https://archive.ics.uci.edu/ml/machine-learning-databases/iris/iris.data'\n",
    "    iris_2d = np.genfromtxt(url, delimiter=',', dtype='float', usecols=[0,1,2,3])\n",
    "\n"
   ]
  },
  {
   "cell_type": "code",
   "execution_count": 23,
   "id": "e67a9878-0aef-499d-a4a3-846e62ec386e",
   "metadata": {},
   "outputs": [
    {
     "name": "stdout",
     "output_type": "stream",
     "text": [
      "A:\n",
      " [[5 6]\n",
      " [3 4]]\n",
      "B:\n",
      " [[3 4]\n",
      " [7 8]]\n",
      "Vertical stack (V):\n",
      " [[5 6]\n",
      " [3 4]\n",
      " [3 4]\n",
      " [7 8]]\n",
      "Horizontal stack (H):\n",
      " [[5 6 3 4]\n",
      " [3 4 7 8]]\n"
     ]
    }
   ],
   "source": [
    "#Answer 1\n",
    "import numpy as np\n",
    "\n",
    "\n",
    "A = np.array([[5, 6],\n",
    "              [3, 4]])\n",
    "\n",
    "B = np.array([[3, 4],\n",
    "              [7, 8]])\n",
    "\n",
    "\n",
    "V = np.vstack((A, B))\n",
    "\n",
    "\n",
    "H = np.hstack((A, B))\n",
    "\n",
    "print(\"A:\\n\", A)\n",
    "print(\"B:\\n\", B)\n",
    "print(\"Vertical stack (V):\\n\", V)\n",
    "print(\"Horizontal stack (H):\\n\", H)"
   ]
  },
  {
   "cell_type": "code",
   "execution_count": 13,
   "id": "5231e313-027e-4b76-ad8f-3915e2c203ab",
   "metadata": {},
   "outputs": [
    {
     "name": "stdout",
     "output_type": "stream",
     "text": [
      "[3 4]\n"
     ]
    }
   ],
   "source": [
    "#Answer 2\n",
    "common = np.intersect1d(A, B)\n",
    "print(common)"
   ]
  },
  {
   "cell_type": "code",
   "execution_count": 25,
   "id": "e0a7a2d4-cf4b-469c-86a5-4b5cd170f605",
   "metadata": {},
   "outputs": [
    {
     "name": "stdout",
     "output_type": "stream",
     "text": [
      "[5 6]\n"
     ]
    }
   ],
   "source": [
    "#Answer 3\n",
    "mask = (A >= 5) & (A <= 10)\n",
    "vals = A[mask]\n",
    "print(vals)       \n"
   ]
  },
  {
   "cell_type": "code",
   "execution_count": 29,
   "id": "40c65080-e277-4b92-bbbd-b8a68b4fb83f",
   "metadata": {},
   "outputs": [
    {
     "name": "stdout",
     "output_type": "stream",
     "text": [
      "(6, 4)\n",
      "[[4.8 3.4 1.6 0.2]\n",
      " [4.8 3.4 1.9 0.2]\n",
      " [4.7 3.2 1.6 0.2]\n",
      " [4.8 3.1 1.6 0.2]\n",
      " [4.9 2.4 3.3 1. ]\n",
      " [4.9 2.5 4.5 1.7]]\n"
     ]
    }
   ],
   "source": [
    "#Answer 4\n",
    "import numpy as np\n",
    "\n",
    "url = 'https://archive.ics.uci.edu/ml/machine-learning-databases/iris/iris.data'\n",
    "iris_2d = np.genfromtxt(url, delimiter=',', dtype='float', usecols=[0,1,2,3])\n",
    "\n",
    "\n",
    "mask = (iris_2d[:, 2] > 1.5) & (iris_2d[:, 0] < 5.0)\n",
    "filtered = iris_2d[mask]\n",
    "\n",
    "print(filtered.shape) \n",
    "print(filtered)        \n"
   ]
  },
  {
   "cell_type": "markdown",
   "id": "1f184b0f-6905-47bf-bb60-f6aea7fcd78d",
   "metadata": {},
   "source": [
    "### HW Questions (Pandas):\n",
    "1. From df filter the 'Manufacturer', 'Model' and 'Type' for every 20th row starting from 1st (row 0).\n",
    "    df = pd.read_csv('https://raw.githubusercontent.com/selva86/datasets/master/Cars93_miss.csv')\n",
    "   \n",
    "2. Replace missing values in Min.Price and Max.Price columns with their respective mean.\n",
    "    df = pd.read_csv('https://raw.githubusercontent.com/selva86/datasets/master/Cars93_miss.csv')\n",
    "\n",
    "   \n",
    "3. How to get the rows of a dataframe with row sum > 100?\n",
    "\n",
    "\n",
    "   df = pd.DataFrame(np.random.randint(10, 40, 60).reshape(-1, 4))\n",
    "\n",
    "   "
   ]
  },
  {
   "cell_type": "code",
   "execution_count": 35,
   "id": "8bcb186c-c8d4-46aa-9784-58b923a712c4",
   "metadata": {},
   "outputs": [
    {
     "name": "stdout",
     "output_type": "stream",
     "text": [
      "  Manufacturer    Model     Type\n",
      "0        Acura  Integra    Small\n",
      "1     Chrysler  LeBaron  Compact\n",
      "2        Honda  Prelude   Sporty\n",
      "3      Mercury   Cougar  Midsize\n",
      "4       Subaru   Loyale    Small\n"
     ]
    }
   ],
   "source": [
    "#Answer 1\n",
    "import pandas as pd\n",
    "\n",
    "df = pd.read_csv('https://raw.githubusercontent.com/selva86/datasets/master/Cars93_miss.csv')\n",
    "\n",
    "out = df.loc[::20, ['Manufacturer', 'Model', 'Type']].reset_index(drop=True)\n",
    "print(out)\n",
    "\n"
   ]
  },
  {
   "cell_type": "code",
   "execution_count": 47,
   "id": "7a38f701-4f3a-4c65-9053-5a4534873ce1",
   "metadata": {},
   "outputs": [
    {
     "name": "stdout",
     "output_type": "stream",
     "text": [
      "Min.Price    0\n",
      "Max.Price    0\n",
      "dtype: int64\n"
     ]
    }
   ],
   "source": [
    "#Answer 2\n",
    "import pandas as pd\n",
    "\n",
    "df = pd.read_csv('https://raw.githubusercontent.com/selva86/datasets/master/Cars93_miss.csv')\n",
    "\n",
    "means = df[['Min.Price', 'Max.Price']].mean()\n",
    "\n",
    "\n",
    "df[['Min.Price', 'Max.Price']] = df[['Min.Price', 'Max.Price']].fillna(means)\n",
    "\n",
    "\n",
    "print(df[['Min.Price', 'Max.Price']].isna().sum())\n"
   ]
  },
  {
   "cell_type": "code",
   "execution_count": 51,
   "id": "2dc14dd1-92bd-4c4c-a01f-bf83de6fcdc5",
   "metadata": {},
   "outputs": [
    {
     "name": "stdout",
     "output_type": "stream",
     "text": [
      "     0   1   2   3\n",
      "1   31  31  22  27\n",
      "4   18  18  31  35\n",
      "5   21  39  14  34\n",
      "6   29  19  24  39\n",
      "7   16  36  32  31\n",
      "12  33  35  21  18\n",
      "13  26  38  32  14\n",
      "14  35  30  20  17\n"
     ]
    }
   ],
   "source": [
    "#Answer 3\n",
    "import numpy as np\n",
    "import pandas as pd\n",
    "\n",
    "df = pd.DataFrame(np.random.randint(10, 40, 60).reshape(-1, 4))\n",
    "\n",
    "# rows where the sum across columns > 100\n",
    "out = df[df.sum(axis=1) > 100]\n",
    "print(out)\n"
   ]
  }
 ],
 "metadata": {
  "kernelspec": {
   "display_name": "Python [conda env:base] *",
   "language": "python",
   "name": "conda-base-py"
  },
  "language_info": {
   "codemirror_mode": {
    "name": "ipython",
    "version": 3
   },
   "file_extension": ".py",
   "mimetype": "text/x-python",
   "name": "python",
   "nbconvert_exporter": "python",
   "pygments_lexer": "ipython3",
   "version": "3.12.7"
  }
 },
 "nbformat": 4,
 "nbformat_minor": 5
}
